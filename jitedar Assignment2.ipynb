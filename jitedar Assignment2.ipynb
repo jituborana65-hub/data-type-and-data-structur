{
  "cells": [
    {
      "cell_type": "markdown",
      "metadata": {
        "id": "xv2l0mrdc9p5"
      },
      "source": [
        "**Assignment 2: Data Types and Structures**"
      ]
    },
    {
      "cell_type": "markdown",
      "metadata": {
        "id": "ZIYhwHkhdOJb"
      },
      "source": [
        "1.  What are data structures, and why are they important ?\n",
        "\n",
        ">>Data structures are organized ways to store, manage, and retrieve data efficiently in a computer.\n",
        "\n",
        ">>Importance of Data Structure :\n",
        "\n",
        ">>>Efficient Data Management :Help organize large amounts of data so it's easy to access and modify.\n",
        "\n",
        ">>>Faster Searching & Sorting: Certain data structures  allow faster operations.\n",
        "\n",
        ">>>Memory Optimization: Help reduce memory usage by using optimal storage formats.\n",
        "\n",
        ">>>Foundation for Algorithms: Most algorithms rely on data structures to work correctly and efficiently.\n",
        "\n",
        ">>>Real-world Problem Solving: Useful in tasks like file systems, databases, social networks, etc.\n",
        "\n",
        ">>>Helps in Decision Making: Choosing the right data structure can improve performance drastically.\n",
        "\n",
        ">>Examples: List,tuple,sets"
      ]
    },
    {
      "cell_type": "markdown",
      "metadata": {
        "id": "8eSen3mrdSue"
      },
      "source": [
        "2.  Explain the difference between mutable and immutable data types with examples\n",
        "\n",
        ">>Mutable:\n",
        ">>>\tObjects that can be changed after they are created.\n",
        "\n",
        ">>> No new memory location is created\n",
        "\n",
        ">>>Example :list, dict, set\n",
        "\n",
        "\n",
        "\n",
        "```\n",
        "# Example of Mutable\n",
        "my_list = [1, 2, 3]\n",
        "my_list[0] = 10\n",
        "print(my_list)\n",
        "```\n",
        ">> Immutable:\n",
        ">>>Objects that cannot be changed after they are created.\n",
        "\n",
        ">>>Creation of new  memory location at any changes\n",
        "\n",
        ">>>Examples: int, float, str, tuple\n",
        "\n",
        "\n",
        "\n",
        "```\n",
        "# Example of immutable\n",
        "t = (1, 2, 3)\n",
        "# t[0] = 10  #This will raise a TypeError\n",
        "```\n",
        "\n",
        "\n",
        "\n",
        "\n",
        "\n"
      ]
    },
    {
      "cell_type": "markdown",
      "metadata": {
        "id": "6AkwDpD7dls6"
      },
      "source": [
        "3.  What are the main differences between lists and tuples in Python ?\n",
        "\n",
        ">Difference bwtween List and tuple\n",
        ">1. Mutability:**Lists** are mutable whereas **tuples** are immutable.\n",
        "\n",
        ">>This means you can change, add, or remove elements in a list, but you cannot modify a tuple after it's created.\n",
        "\n",
        ">2. Syntax: **Lists** use square brackets [ ], whereas **tuples** use parentheses ( ).\n",
        "\n",
        ">>This means you define a list like [1, 2, 3] and a tuple like (1, 2, 3).\n",
        "\n",
        ">3. Methods Available: **Lists** have many built-in methods, whereas **tuples **have very few.\n",
        "\n",
        ">>This means you can modify a list using methods like append(), pop(), or sort(), but tuples only support count() and index().\n",
        "\n",
        ">4. Performance: **Tuples** are faster in performance than** lists**.\n",
        "\n",
        ">>This is because tuples are immutable and require less overhead, making them more efficient in fixed-size data operations.\n",
        "\n",
        ">5. Memory Usage: **Tuples** use less memory than **lists.**\n",
        "\n",
        ">>Since tuples are fixed in size, they consume less memory than dynamic lists.\n",
        "\n",
        ">6. Use Case: **Lists** are used when data can change, whereas **tuples** are used for fixed data.\n",
        "\n",
        ">>This means use lists for dynamic operations, and tuples when you want to protect data from modification.\n",
        "\n"
      ]
    },
    {
      "cell_type": "markdown",
      "metadata": {
        "id": "huFJIkRBdpKx"
      },
      "source": [
        "4.  Describe how dictionaries store data .\n",
        "\n",
        ">A dictionary in Python is a collection of key-value pairs, where each key is unique and is used to access its corresponding value.\n",
        "\n",
        ">Dictionaries store data:\n",
        "\n",
        ">>A dictionary stores data as key-value pairs.\n",
        "\n",
        ">>The key is used to identify the data.\n",
        "\n",
        ">>The value is the data associated with that key.\n",
        "\n",
        ">>It allows for quick access, update, and deletion of data using keys.\n"
      ]
    },
    {
      "cell_type": "markdown",
      "metadata": {
        "id": "7HBwUtnpdto2"
      },
      "source": [
        "5. Why might you use a set instead of a list in Python ?\n",
        "\n",
        ">Reasons to use set instead of list :\n",
        "\n",
        ">1. No duplicate elements : A set automatically removes duplicates, while a list can store them.\n",
        "\n",
        ">2. Faster lookups : Checking if an element exists in a set (in operation) is generally O(1), compared to O(n) for a list.\n",
        "\n",
        ">3. Unordered collection : If you don’t care about the order of elements, sets are more efficient.\n",
        "\n",
        ">4. Mathematical operations : Sets support union, intersection, and difference operations directly.\n",
        "\n",
        ">5. Better for uniqueness checks : When you need only unique items, sets avoid manual duplicate removal."
      ]
    },
    {
      "cell_type": "markdown",
      "metadata": {
        "id": "R-uGVzVbdwnm"
      },
      "source": [
        "6. What is a string in Python, and how is it different from a list ?\n",
        "\n",
        ">String: A string is a sequence of characters. Python treats anything inside quotes as a string. This includes letters, numbers, and symbols. Python has no character data type so single character is a string of length 1.\n",
        "\n",
        ">String different from list:\n",
        ">>1. Data Type : A string stores only characters, while a list can store elements of any data type (numbers, strings, objects, etc.).\n",
        "\n",
        ">>2. Mutability : Strings are immutable, whereas lists are mutable .\n",
        "\n",
        ">>3. Element Type : Strings can contain only characters, but lists can have mixed data types.\n",
        "\n",
        ">>4. Modification : You cannot directly change a character in a string, but you can change, add, or remove elements in a list.\n",
        "\n",
        ">>5. Operations : Strings have text-specific methods (upper(), replace(), split()), while lists have collection-specific methods (append(), remove(), sort()).\n",
        "\n",
        ">>6. Representation : Strings are written inside quotes (' ', \" \"), while lists are written inside square brackets [ ].\n",
        "\n",
        ">>7. Usage : Strings are used for text data, while lists are used for storing a sequence of items."
      ]
    },
    {
      "cell_type": "markdown",
      "metadata": {
        "id": "taYSINv4dz4U"
      },
      "source": [
        "7. How do tuples ensure data integrity in Python ?\n",
        "\n",
        ">Tuples ensure data integrity in Python mainly because they are immutable.\n",
        "\n",
        ">Other reasons tuples ensure data integrity:\n",
        ">1. Prevents accidental changes : Since tuples can’t be modified, your data stays exactly as it was when created.\n",
        "\n",
        ">2. Reliable as constants : Tuples can store fixed data (like configuration values) that must remain the same throughout the program.\n",
        "\n",
        ">3. Safe for keys in dictionaries : Their immutability allows them to be used as dictionary keys or stored in sets without risk of being altered.\n",
        "\n",
        ">4. Predictable behavior : No unexpected changes in tuple data make debugging and tracking logic easier.\n",
        "\n",
        ">5. Thread-safety : In multi-threaded programs, immutable data structures like tuples reduce the chance of data corruption from concurrent modifications."
      ]
    },
    {
      "cell_type": "markdown",
      "metadata": {
        "id": "IoNma-Rqd2yB"
      },
      "source": [
        "8. What is a hash table, and how does it relate to dictionaries in Python ?\n",
        "\n",
        "> A hash table is a data structure that stores key–value pairs and uses a hash function to map each key to a specific index (bucket) in memory.\n",
        "\n",
        ">Relation of Hashtable to dictionaries :\n",
        "\n",
        ">>1. In Python, a dictionary (dict) is implemented using a hash table.\n",
        "\n",
        ">>2. Keys in a dictionary are hashed internally, and their hash values decide where the corresponding values are stored in memory.\n",
        "\n",
        ">>3. Only immutable and hashable objects can be used as dictionary keys.\n",
        "\n",
        ">>4. Hash tables let dictionaries perform very fast lookups, even with large amounts of data.\n",
        "\n",
        "\n",
        "\n",
        "```\n",
        "my_dict = {\"name\": \"Sakshi\", \"age\": 25}\n",
        "# \"name\" is hashed internally → value 25 stored at a memory bucket\n",
        "print(my_dict[\"name\"])  # Output: Alice\n",
        "\n",
        "```\n",
        "\n"
      ]
    },
    {
      "cell_type": "markdown",
      "metadata": {
        "id": "J_ovm2rZd6gT"
      },
      "source": [
        "9.  Can lists contain different data types in Python ?\n",
        "\n",
        ">Yes, lists in Python can contain different data types in the same list.\n",
        "\n",
        ">A list can hold integers, floats, strings, booleans, objects, even other lists — all mixed together.\n",
        "\n",
        ">This is possible because Python lists are dynamic and store references to objects, not fixed-type elements.\n",
        "\n",
        "\n",
        "\n",
        "```\n",
        "my_list = [10, \"Hello\", 3.14, True, [1, 2, 3]]\n",
        "print(my_list)\n",
        "```\n",
        "\n",
        "\n",
        "\n"
      ]
    },
    {
      "cell_type": "markdown",
      "metadata": {
        "id": "L1HksWxAd-Cx"
      },
      "source": [
        "10. Explain why strings are immutable in Python .\n",
        "\n",
        ">Reasons String are immutable:\n",
        "\n",
        ">1. Memory efficiency : Immutability allows Python to reuse identical string objects (string interning), saving memory.\n",
        "\n",
        ">2. Hash consistency : Strings must stay unchanged so their hash value remains constant when used as dictionary or set keys.\n",
        "\n",
        ">3. Thread-safety : Because strings can’t be modified, they can be shared between threads without risk of corruption.\n",
        "\n",
        ">4. Predictable behavior : Fixed, unchangeable strings prevent accidental changes, making code more reliable.\n",
        "\n",
        ">5. Performance optimization : Immutable strings can be stored and accessed in a way that speeds up certain operations."
      ]
    },
    {
      "cell_type": "markdown",
      "metadata": {
        "id": "BKwlLNw6eBpL"
      },
      "source": [
        "11. What advantages do dictionaries offer over lists for certain tasks ?\n",
        "\n",
        "> Advantages do dictionaries offer over lists for certain tasks are:\n",
        "\n",
        ">1. Faster lookups : Dictionaries provide average O(1) time complexity for accessing values by key, while lists take O(n) for searches.\n",
        "\n",
        ">2. Key-based access : You can access data using meaningful keys instead of relying on numeric indexes.\n",
        "\n",
        ">3. No need for manual searching : Values are retrieved directly by key without iterating through the entire collection.\n",
        "\n",
        ">4. Unordered but organized : Data is stored in a way that’s easy to manage when you care about associations rather than order.\n",
        "\n",
        ">5. Flexible keys and values : Keys can be any immutable type (string, number, tuple), and values can be any data type.\n",
        "\n",
        ">6. Clear mapping of data : Perfect for storing real-world data with a clear “label → value” relationship.\n",
        "\n",
        "```\n",
        "# List of [name, phone] pairs\n",
        "contacts_list = [[\"Alice\", \"1234\"], [\"Bob\", \"5678\"], [\"Charlie\", \"9101\"]]\n",
        "\n",
        "# Find Bob's number\n",
        "for name, phone in contacts_list:\n",
        "    if name == \"Bob\":\n",
        "        print(phone)  # Output: 5678\n",
        "        break\n",
        "```\n",
        "\n",
        "\n",
        "```\n",
        "# Dictionary of name: phone pairs\n",
        "contacts_dict = {\"Alice\": \"1234\", \"Bob\": \"5678\", \"Charlie\": \"9101\"}\n",
        "\n",
        "# Find Bob's number\n",
        "print(contacts_dict[\"Bob\"])  # Output: 5678\n",
        "```\n",
        "\n",
        "> Difference : Time Complexity of Dictionary is O(1) where as list is  O(n).\n",
        "\n",
        "\n"
      ]
    },
    {
      "cell_type": "markdown",
      "metadata": {
        "id": "zLptD8MYeIVb"
      },
      "source": [
        "12. Describe a scenario where using a tuple would be preferable over a list.\n",
        "\n",
        ">Scenario:\n",
        ">>Storing fixed GPS coordinates of a city in a program.\n",
        "\n",
        "Example:\n",
        "```\n",
        "# Latitude and Longitude of New York\n",
        "new_york_coordinates = (40.7128, -74.0060)\n",
        "\n",
        "```\n",
        "\n",
        ">Why tuple is preferable:\n",
        ">1. The coordinates should never change during the program’s execution → tuples are immutable, ensuring data integrity.\n",
        "\n",
        ">2. Tuples can be used as dictionary keys if you need to store location-based data (lists cannot be keys).\n",
        "\n",
        ">3. Slightly faster than lists for access, making them efficient for fixed datasets."
      ]
    },
    {
      "cell_type": "markdown",
      "metadata": {
        "id": "1QGIk2NeeLYC"
      },
      "source": [
        "13.  How do sets handle duplicate values in Python ?\n",
        "\n",
        ">Sets automatically remove duplicate values because they only store unique elements.\n",
        "\n",
        ">When you try to add a duplicate to a set, Python ignores it silently.\n",
        "\n",
        ">This is possible because sets use a hash table internally, where each element’s hash value must be unique.\n",
        "\n",
        "\n",
        "\n",
        "```\n",
        "my_set = {1, 2, 2, 3, 3, 3}\n",
        "print(my_set)\n",
        "```\n",
        "\n"
      ]
    },
    {
      "cell_type": "markdown",
      "metadata": {
        "id": "5VQZl_X2ePWB"
      },
      "source": [
        "14. How does the “in” keyword work differently for lists and dictionaries ?\n",
        "\n",
        ">The in keyword behaves differently for lists and dictionaries in Python:\n",
        "\n",
        ">1.For lists \"in\" checks if a value exists anywhere in the list.\n",
        "\n",
        "```\n",
        "numbers = [1, 2, 3, 4]\n",
        "print(3 in numbers)   #(checks values)\n",
        "print(5 in numbers)   \n",
        "\n",
        "```\n",
        ">2.For dictionaries – in checks if a key exists in the dictionary (not the value).\n",
        "\n",
        "```\n",
        "person = {\"name\": \"Alice\", \"age\": 25}\n",
        "print(\"name\" in person)   #  checks keys\n",
        "print(\"Alice\" in person)  # does not check values\n",
        "```\n",
        "\n",
        "\n"
      ]
    },
    {
      "cell_type": "markdown",
      "metadata": {
        "id": "2UV2GsYReSuO"
      },
      "source": [
        "15. Can you modify the elements of a tuple? Explain why or why not .\n",
        "\n",
        ">No we cannot modify the elements of a tuple in Python.\n",
        "\n",
        ">Reason:\n",
        "\n",
        ">1. Tuples are immutable, meaning once they are created, their elements cannot be changed, added, or removed.\n",
        "\n",
        ">2. This immutability ensures data integrity, allows tuples to be used as dictionary keys or stored in sets, and makes them more memory-efficient and thread-safe.\n",
        "\n",
        "```\n",
        "t = (1, 2, 3)\n",
        "t[0] = 10 # TypeError: 'tuple' object does not support item assignment\n",
        "```\n",
        "\n"
      ]
    },
    {
      "cell_type": "markdown",
      "metadata": {
        "id": "4o3ma24VeWCc"
      },
      "source": [
        "16. What is a nested dictionary, and give an example of its use case ?\n",
        "\n",
        ">Nested Dictionary:\n",
        "\n",
        ">1. A nested dictionary is a dictionary that contains another dictionary as one or more of its values.\n",
        "\n",
        ">2. It’s used to store hierarchical or structured data in a compact, organized way.\n",
        "\n",
        "\n",
        "```\n",
        "# Example of usecase\n",
        "students = {\n",
        "    \"Alice\": {\"age\": 20, \"marks\": {\"Math\": 90, \"Science\": 85}},\n",
        "    \"Bob\": {\"age\": 22, \"marks\": {\"Math\": 78, \"Science\": 88}}\n",
        "}\n",
        "\n",
        "# Access Bob's Science marks\n",
        "print(students[\"Bob\"][\"marks\"][\"Science\"])  \n",
        "```\n",
        "\n",
        "\n"
      ]
    },
    {
      "cell_type": "markdown",
      "metadata": {
        "id": "U53xiT1seZQS"
      },
      "source": [
        "17.  Describe the time complexity of accessing elements in a dictionary.\n",
        ">Accessing elements in a dictionary in Python has:\n",
        "\n",
        ">1. Average case: O(1) : Constant time, because dictionaries use a hash table for key lookups.\n",
        "\n",
        ">2. Worst case: O(n) : Happens rarely, only when many keys have the same hash value (hash collision) and Python has to search through them linearly.\n",
        "\n",
        "\n",
        "```\n",
        "person = {\"name\": \"Alice\", \"age\": 25}\n",
        "print(person[\"age\"])  # O(1) average time\n",
        "```\n",
        "\n"
      ]
    },
    {
      "cell_type": "markdown",
      "metadata": {
        "id": "nhMfFUaBedPV"
      },
      "source": [
        "18. In what situations are lists preferred over dictionaries ?\n",
        "\n",
        ">Situations where lists are preferred over dictionaries:\n",
        "\n",
        ">1. Order matters : When you need to preserve and work with the sequence of elements.\n",
        "\n",
        ">2. No key-value mapping needed : When you only care about storing values, not associating them with unique keys.\n",
        "\n",
        ">3. Allow duplicates : When you need to store the same value multiple times.\n",
        "\n",
        ">4. Index-based access : When elements are best accessed by their position (index) rather than by a key.\n",
        "\n",
        ">5. Small datasets : For small collections where the speed benefit of a dictionary is negligible.\n",
        "\n",
        ">6. Iteration over values : When you want to loop through elements directly without worrying about keys.\n",
        "\n",
        "\n",
        "```\n",
        "fruits = [\"apple\", \"banana\", \"orange\", \"banana\"]\n",
        "print(fruits[1])\n",
        "```\n",
        "\n"
      ]
    },
    {
      "cell_type": "markdown",
      "metadata": {
        "id": "pGazaS6Hfnr-"
      },
      "source": [
        "19. Why are dictionaries considered unordered, and how does that affect data retrieval ?\n",
        "\n",
        "> Dictionaries are considered unordered:\n",
        "\n",
        ">1. Before Python 3.7, dictionaries did not guarantee that elements would be stored or iterated in the order they were inserted.\n",
        "\n",
        ">2. This is because dictionaries are implemented using a hash table, where the storage location of each key-value pair depends on the key’s hash value, not its position.\n",
        "\n",
        ">Effect on data retrieval\n",
        "\n",
        ">1. Key-based retrieval is unaffected we can always access a value directly using its key in O(1) time, regardless of order.\n",
        "\n",
        ">2. However, iteration order was unpredictable in older versions of Python, meaning looping over a dictionary could produce elements in any sequence.\n",
        "\n",
        ">3. From Python 3.7+, insertion order is preserved as an implementation detail  but retrieval by key is still independent of order."
      ]
    },
    {
      "cell_type": "markdown",
      "metadata": {
        "id": "Jxh4mXA_frp1"
      },
      "source": [
        "20. Explain the difference between a list and a dictionary in terms of data retrieval.\n",
        "\n",
        ">Difference between a list and a dictionary in terms of data retrieval:\n",
        ">1. List : Retrieval is index-based\n",
        "\n",
        ">>We access elements using their position (0, 1, 2, …).\n",
        "\n",
        ">>Time complexity: O(1) for direct index access, but O(n) if you search for a value.\n",
        "\n",
        "\n",
        "```\n",
        "fruits = [\"apple\", \"banana\", \"cherry\"]\n",
        "print(fruits[1])\n",
        "```\n",
        "\n",
        ">2. Dictionary : Retrieval is key-based\n",
        "\n",
        ">>We access values using unique keys, not positions.\n",
        "\n",
        ">>Time complexity: O(1) on average because of hashing.\n",
        "\n",
        "\n",
        "\n",
        "```\n",
        "person = {\"name\": \"Alice\", \"age\": 25}\n",
        "print(person[\"age\"])\n",
        "```\n",
        "\n",
        "\n",
        "\n"
      ]
    },
    {
      "cell_type": "markdown",
      "metadata": {
        "id": "s6iPH3I1fvXv"
      },
      "source": [
        "**Practical Questions**"
      ]
    },
    {
      "cell_type": "code",
      "execution_count": 5,
      "metadata": {},
      "outputs": [
        {
          "name": "stdout",
          "output_type": "stream",
          "text": [
            "My name is jitendar\n"
          ]
        }
      ],
      "source": [
        "#1 Write a code to create a string with your name and print it\n",
        "\n",
        "name=input(\"Enter your name\")\n",
        "print(f\"My name is {name}\")"
      ]
    },
    {
      "cell_type": "code",
      "execution_count": null,
      "metadata": {
        "colab": {
          "base_uri": "https://localhost:8080/"
        },
        "id": "Bk95tYEFc5dk",
        "outputId": "cf6dcd0d-5c39-4500-97c1-dea8347a2f51"
      },
      "outputs": [
        {
          "name": "stdout",
          "output_type": "stream",
          "text": [
            "Length of string is : 11\n"
          ]
        }
      ],
      "source": [
        "#2 Write a code to find the length of the string \"Hello World\"\n",
        "\n",
        "string=\"Hello World\"\n",
        "length=len(string)\n",
        "print(\"Length of string is :\",length)"
      ]
    },
    {
      "cell_type": "code",
      "execution_count": null,
      "metadata": {
        "colab": {
          "base_uri": "https://localhost:8080/"
        },
        "id": "L3tp60oyggKS",
        "outputId": "20b68340-5a9c-4edd-90be-f5c0454cd2ed"
      },
      "outputs": [
        {
          "name": "stdout",
          "output_type": "stream",
          "text": [
            "String after slicing first 3 character : hon Programming\n"
          ]
        }
      ],
      "source": [
        "#3 Write a code to slice the first 3 characters from the string \"Python Programming\"\n",
        "\n",
        "string=\"Python Programming\"\n",
        "print(\"String after slicing first 3 character :\",string[3:])"
      ]
    },
    {
      "cell_type": "code",
      "execution_count": null,
      "metadata": {
        "colab": {
          "base_uri": "https://localhost:8080/"
        },
        "id": "g2AHkqXBgj5H",
        "outputId": "195b7136-aa2f-437b-effd-6310a61cd8a7"
      },
      "outputs": [
        {
          "name": "stdout",
          "output_type": "stream",
          "text": [
            "String in uppercase HELLO\n"
          ]
        }
      ],
      "source": [
        "#4 Write a code to convert the string \"hello\" to uppercase\n",
        "\n",
        "string=\"hello\"\n",
        "print(\"String in uppercase\",string.upper())"
      ]
    },
    {
      "cell_type": "code",
      "execution_count": null,
      "metadata": {
        "colab": {
          "base_uri": "https://localhost:8080/"
        },
        "id": "nDnVVpwRgnEB",
        "outputId": "d25c6dd7-05b6-4da0-d27d-3cca0f7766c8"
      },
      "outputs": [
        {
          "name": "stdout",
          "output_type": "stream",
          "text": [
            "String before replacement : I like apple \n",
            "String after replacemnt:  I like orange \n"
          ]
        }
      ],
      "source": [
        "#5 Write a code to replace the word \"apple\" with \"orange\" in the string \"I like apple\"\n",
        "\n",
        "string=\"I like apple \"\n",
        "\n",
        "new_string=string.replace(\"apple\",\"orange\") #replacing the word apple --->orange\n",
        "\n",
        "print(\"String before replacement :\",string)\n",
        "print(\"String after replacemnt: \",new_string)"
      ]
    },
    {
      "cell_type": "code",
      "execution_count": 1,
      "metadata": {
        "colab": {
          "base_uri": "https://localhost:8080/"
        },
        "id": "ok_Hm1tPgquJ",
        "outputId": "d94fd3e3-a2d7-47ff-956e-79d245e48afc"
      },
      "outputs": [
        {
          "name": "stdout",
          "output_type": "stream",
          "text": [
            "List with number 1 to 5 [1, 2, 3, 4, 5]\n"
          ]
        }
      ],
      "source": [
        "#6 Write a code to create a list with numbers 1 to 5 and print it\n",
        "\n",
        "list=[] #empty list\n",
        "for i in range(1,6):\n",
        "  list.append(i) #appending elements\n",
        "print(\"List with number 1 to 5\",list)"
      ]
    },
    {
      "cell_type": "code",
      "execution_count": null,
      "metadata": {
        "colab": {
          "base_uri": "https://localhost:8080/"
        },
        "id": "90wiC2hjgtw0",
        "outputId": "89189a27-24b3-44a7-dfc0-048789ba0c6a"
      },
      "outputs": [
        {
          "name": "stdout",
          "output_type": "stream",
          "text": [
            "List before appending 10 :  [1, 2, 3, 4]\n",
            "List after appending 10 :  [1, 2, 3, 4, 10]\n"
          ]
        }
      ],
      "source": [
        "#7 Write a code to append the number 10 to the list [1, 2, 3, 4]\n",
        "\n",
        "list=[1,2,3,4]\n",
        "print(\"List before appending 10 : \",list)\n",
        "\n",
        "list.append(10) #adding 10 to list\n",
        "\n",
        "print(\"List after appending 10 : \" ,list)"
      ]
    },
    {
      "cell_type": "code",
      "execution_count": null,
      "metadata": {
        "colab": {
          "base_uri": "https://localhost:8080/"
        },
        "id": "8mrqjxEpgx9C",
        "outputId": "e9df6828-979e-4317-f6e3-153deedfd047"
      },
      "outputs": [
        {
          "name": "stdout",
          "output_type": "stream",
          "text": [
            "List before removing :  [1, 2, 3, 4, 5]\n",
            "List after removing 3 :  [1, 2, 4, 5]\n"
          ]
        }
      ],
      "source": [
        "#8 Write a code to remove the number 3 from the list [1, 2, 3, 4, 5]\n",
        "\n",
        "list=[1,2,3,4,5]\n",
        "print(\"List before removing 3 : \",list)\n",
        "\n",
        "list.remove(3) #remove 3 from list\n",
        "\n",
        "print(\"List after removing 3 : \" ,list)"
      ]
    },
    {
      "cell_type": "code",
      "execution_count": 2,
      "metadata": {
        "colab": {
          "base_uri": "https://localhost:8080/"
        },
        "id": "Dog7FcKyg19R",
        "outputId": "3c3dbac3-d4e7-465f-a99e-6e7470a3f713"
      },
      "outputs": [
        {
          "name": "stdout",
          "output_type": "stream",
          "text": [
            "The second element in the list : b\n"
          ]
        }
      ],
      "source": [
        "#9 Write a code to access the second element in the list ['a', 'b', 'c', 'd']\n",
        "\n",
        "list=['a', 'b', 'c', 'd']\n",
        "\n",
        "'''acessing second element of list the indexing of list starts with 0 . Therefore element at index 1 is second elemnt of list '''\n",
        "second_element=list[1]\n",
        "\n",
        "print(\"The second element in the list :\",second_element)"
      ]
    },
    {
      "cell_type": "code",
      "execution_count": null,
      "metadata": {
        "colab": {
          "base_uri": "https://localhost:8080/"
        },
        "id": "CZkYA_iJg572",
        "outputId": "f50333c8-639f-4743-edf9-c24e20939292"
      },
      "outputs": [
        {
          "name": "stdout",
          "output_type": "stream",
          "text": [
            "Orginal List [10, 20, 30, 40, 50]\n",
            "\n",
            "Reversed list by reverse function  [50, 40, 30, 20, 10]\n",
            "\n",
            "Reversed list by slicing [50, 40, 30, 20, 10]\n"
          ]
        }
      ],
      "source": [
        "#10  Write a code to reverse the list [10, 20, 30, 40, 50]\n",
        "\n",
        "list=[10, 20, 30, 40, 50]\n",
        "print(\"Orginal List\",list)\n",
        "\n",
        "print()\n",
        "\n",
        "#revrse inbuiltfunction\n",
        "list.reverse()\n",
        "print(\"Reversed list by reverse function \",list)\n",
        "print()\n",
        "\n",
        "orginal_list=[10, 20, 30, 40, 50]\n",
        "\n",
        "print(\"Reversed list by slicing\",orginal_list[::-1])"
      ]
    },
    {
      "cell_type": "code",
      "execution_count": 3,
      "metadata": {
        "colab": {
          "base_uri": "https://localhost:8080/"
        },
        "id": "CIEcL26vg81-",
        "outputId": "26d3fba6-790e-4179-f472-06b85fd06530"
      },
      "outputs": [
        {
          "name": "stdout",
          "output_type": "stream",
          "text": [
            "Tuple : (100, 200, 300)\n"
          ]
        }
      ],
      "source": [
        "#11 Write a code to create a tuple with the elements 100, 200, 300 and print it\n",
        "\n",
        "tuple=(100, 200, 300 )\n",
        "\n",
        "print(\"Tuple :\",tuple)"
      ]
    },
    {
      "cell_type": "code",
      "execution_count": 6,
      "metadata": {
        "colab": {
          "base_uri": "https://localhost:8080/"
        },
        "id": "5kCTdjychBK5",
        "outputId": "2811b582-9ca2-493a-be56-4fb223b368d0"
      },
      "outputs": [
        {
          "name": "stdout",
          "output_type": "stream",
          "text": [
            "Accessing second-to-last element of tuple :  blue\n"
          ]
        }
      ],
      "source": [
        "#12 Write a code to access the second-to-last element of the tuple ('red', 'green', 'blue', 'yellow')\n",
        "\n",
        "tuple=('red', 'green', 'blue', 'yellow')\n",
        "\n",
        "'''acessing second-to-last element of tuple the indexing of list starts with -1 from last . Therefore element at index -2 access the second-to-last element'''\n",
        "print(\"Accessing second-to-last element of tuple : \",tuple[-2])"
      ]
    },
    {
      "cell_type": "code",
      "execution_count": 4,
      "metadata": {
        "colab": {
          "base_uri": "https://localhost:8080/"
        },
        "id": "V6aMmlMzhFO-",
        "outputId": "dae4b0fd-81a2-439b-bc5b-9fdb588dd228"
      },
      "outputs": [
        {
          "name": "stdout",
          "output_type": "stream",
          "text": [
            "Minimum value in the tuple : 5\n"
          ]
        }
      ],
      "source": [
        "#13 Write a code to find the minimum number in the tuple (10, 20, 5, 15)\n",
        "\n",
        "tuple=(10, 20, 5, 15)\n",
        "print(\"Minimum value in the tuple :\",min(tuple)) # min inbuilt function"
      ]
    },
    {
      "cell_type": "code",
      "execution_count": 7,
      "metadata": {
        "colab": {
          "base_uri": "https://localhost:8080/"
        },
        "id": "M4lAyvnahIaY",
        "outputId": "6461fce8-e693-4038-8ba9-b7c582b20837"
      },
      "outputs": [
        {
          "name": "stdout",
          "output_type": "stream",
          "text": [
            "index of the cat : 1\n"
          ]
        }
      ],
      "source": [
        "#14 Write a code to find the index of the element \"cat\" in the tuple ('dog', 'cat', 'rabbit')\n",
        "\n",
        "tuple=('dog', 'cat', 'rabbit')\n",
        "print(\"index of the cat :\",tuple.index(\"cat\")) #index fetch the index of elements"
      ]
    },
    {
      "cell_type": "code",
      "execution_count": null,
      "metadata": {
        "colab": {
          "base_uri": "https://localhost:8080/"
        },
        "id": "SlZmhZVKhRo4",
        "outputId": "f1b90709-37dc-49d3-d3f5-dccb0c6bd320"
      },
      "outputs": [
        {
          "name": "stdout",
          "output_type": "stream",
          "text": [
            "Tuple1 contain kiwi : False\n",
            "Tuple2 contain kiwi : True\n"
          ]
        }
      ],
      "source": [
        "#15 Write a code to create a tuple containing three different fruits and check if \"kiwi\" is in it\n",
        "\n",
        "tuple1 = (\"banana\" , \"peaches\", \"apple\")\n",
        "tuple2= (\"buleberry\" , \"kiwi\", \"grapes\" )\n",
        "\n",
        "result1= \"kiwi\" in tuple1\n",
        "result2= \"kiwi\" in tuple2\n",
        "\n",
        "print(\"Tuple1 contain kiwi :\",result1)\n",
        "print(\"Tuple2 contain kiwi :\",result2)"
      ]
    },
    {
      "cell_type": "code",
      "execution_count": 8,
      "metadata": {
        "colab": {
          "base_uri": "https://localhost:8080/"
        },
        "id": "dPfkcq4IhOkd",
        "outputId": "c61028d0-9bb8-4942-fcc6-4bc06af9c6b8"
      },
      "outputs": [
        {
          "name": "stdout",
          "output_type": "stream",
          "text": [
            "Set {'c', 'a', 'b'}\n"
          ]
        }
      ],
      "source": [
        "#16  Write a code to create a set with the elements 'a', 'b', 'c' and print it\n",
        "\n",
        "set={\"a\",\"b\",\"c\"}\n",
        "\n",
        "print(\"Set\",set)"
      ]
    },
    {
      "cell_type": "code",
      "execution_count": 9,
      "metadata": {
        "colab": {
          "base_uri": "https://localhost:8080/"
        },
        "id": "HHugR2_BhZRh",
        "outputId": "5064cbb0-ae7c-496b-9670-9ebf96d99d26"
      },
      "outputs": [
        {
          "name": "stdout",
          "output_type": "stream",
          "text": [
            "Before clearing the set:  {1, 2, 3, 4, 5}\n",
            "After clearing the set:  None\n"
          ]
        }
      ],
      "source": [
        "#17 Write a code to clear all elements from the set {1, 2, 3, 4, 5}.\n",
        "\n",
        "set={1, 2, 3, 4, 5}\n",
        "print(\"Before clearing the set: \" ,set)\n",
        "\n",
        "#clear it empty the set\n",
        "set=set.clear()\n",
        "print(\"After clearing the set: \",set)"
      ]
    },
    {
      "cell_type": "code",
      "execution_count": null,
      "metadata": {
        "colab": {
          "base_uri": "https://localhost:8080/"
        },
        "id": "q-CajeKPhb7f",
        "outputId": "4513a21a-2188-4ade-daf0-2887c89a152d"
      },
      "outputs": [
        {
          "name": "stdout",
          "output_type": "stream",
          "text": [
            "Before removing 4 from the set: {1, 2, 3, 4}\n",
            "After removing 4 from the set: {1, 2, 3}\n"
          ]
        }
      ],
      "source": [
        "#18  Write a code to remove the element 4 from the set {1, 2, 3, 4}.\n",
        "\n",
        "my_set = {1, 2, 3, 4}\n",
        "print(\"Before removing 4 from the set:\", my_set)\n",
        "\n",
        "# remove the element\n",
        "my_set.remove(4)\n",
        "\n",
        "print(\"After removing 4 from the set:\", my_set)"
      ]
    },
    {
      "cell_type": "code",
      "execution_count": null,
      "metadata": {
        "colab": {
          "base_uri": "https://localhost:8080/"
        },
        "id": "V04YM0nohef7",
        "outputId": "c7d65ed0-dfeb-411a-8dd6-15075e1e971a"
      },
      "outputs": [
        {
          "name": "stdout",
          "output_type": "stream",
          "text": [
            "Union of set with union fuction : {1, 2, 3, 4, 5}\n",
            "Union of set with '|': {1, 2, 3, 4, 5}\n"
          ]
        }
      ],
      "source": [
        "#19 Write a code to find the union of two sets {1, 2, 3} and {3, 4, 5}\n",
        "\n",
        "set1={1, 2, 3}\n",
        "set2={3, 4, 5}\n",
        "\n",
        "#using union function  returns unquie element of set\n",
        "print(\"Union of set with union fuction :\",set1.union(set2))\n",
        "\n",
        "# union with \"| \"\n",
        "print(\"Union of set with '|':\",set1|set2)"
      ]
    },
    {
      "cell_type": "code",
      "execution_count": null,
      "metadata": {
        "colab": {
          "base_uri": "https://localhost:8080/"
        },
        "id": "edMC5N4whhPF",
        "outputId": "4c6f6e1e-1f3f-429a-cb81-4d2b2e7c3301"
      },
      "outputs": [
        {
          "name": "stdout",
          "output_type": "stream",
          "text": [
            "Intersection of set with intersection function : {2, 3}\n",
            "Intersection of set with '&' : {2, 3}\n"
          ]
        }
      ],
      "source": [
        "#20  Write a code to find the intersection of two sets {1, 2, 3} and {2, 3, 4}\n",
        "\n",
        "set1={1, 2, 3}\n",
        "set2={2, 3, 4}\n",
        "\n",
        "#using intersection function  returns common element of set\n",
        "print(\"Intersection of set with intersection function :\",set1.intersection(set2))\n",
        "\n",
        "# Intersection with \"& \"\n",
        "print(\"Intersection of set with '&' :\",set1&set2)"
      ]
    },
    {
      "cell_type": "code",
      "execution_count": 11,
      "metadata": {
        "colab": {
          "base_uri": "https://localhost:8080/"
        },
        "id": "XcgURs3xhk7r",
        "outputId": "ce759bf0-09aa-432a-8af7-1ea1c58431e3"
      },
      "outputs": [
        {
          "name": "stdout",
          "output_type": "stream",
          "text": [
            "Dictionary : {'name': 'Sakshi', 'age': '21', 'city': 'nagpur'}\n"
          ]
        }
      ],
      "source": [
        "#21  Write a code to create a dictionary with the keys \"name\", \"age\", and \"city\", and print it\n",
        "\n",
        "my_dictionary={\"name\":\"Sakshi\",\"age\":\"21\",\"city\":\"nagpur\"}\n",
        "print(\"Dictionary :\",my_dictionary)"
      ]
    },
    {
      "cell_type": "code",
      "execution_count": 12,
      "metadata": {
        "colab": {
          "base_uri": "https://localhost:8080/"
        },
        "id": "PO5FtDMqhoFV",
        "outputId": "27c244a4-0c25-432b-cee6-2caef64e9bd6"
      },
      "outputs": [
        {
          "name": "stdout",
          "output_type": "stream",
          "text": [
            "Dictionary before adding new key-value pair : {'name': 'John', 'age': 25}\n",
            "Dictionary after adding new key-value pair : {'name': 'John', 'age': 25, 'country': 'USA'}\n"
          ]
        }
      ],
      "source": [
        "#22 Write a code to add a new key-value pair \"country\": \"USA\" to the dictionary {'name': 'John', 'age': 25}\n",
        "\n",
        "my_dictionary={'name': 'John', 'age': 25}\n",
        "print(\"Dictionary before adding new key-value pair :\",my_dictionary)\n",
        "my_dictionary[\"country\"] = \"USA\" #adding element\n",
        "print(\"Dictionary after adding new key-value pair :\",my_dictionary)"
      ]
    },
    {
      "cell_type": "code",
      "execution_count": 13,
      "metadata": {
        "colab": {
          "base_uri": "https://localhost:8080/"
        },
        "id": "CzQcSl_hhrHO",
        "outputId": "142f8328-451a-4f5c-9856-af40b744996a"
      },
      "outputs": [
        {
          "name": "stdout",
          "output_type": "stream",
          "text": [
            "The value associated with keyword name : Alice\n"
          ]
        }
      ],
      "source": [
        "#23 Write a code to access the value associated with the key \"name\" in the dictionary {'name': 'Alice', 'age': 30}\n",
        "\n",
        "my_dictionary={'name': 'Alice', 'age': 30}\n",
        "print(\"The value associated with keyword name :\",my_dictionary.get(\"name\")) #accessing the value associated with the key \"name\""
      ]
    },
    {
      "cell_type": "code",
      "execution_count": null,
      "metadata": {
        "colab": {
          "base_uri": "https://localhost:8080/"
        },
        "id": "A7rZyr3PhvAy",
        "outputId": "7fbf56c8-506c-4f3a-8054-33e23e4b5f0c"
      },
      "outputs": [
        {
          "name": "stdout",
          "output_type": "stream",
          "text": [
            "Before removing age : {'name': 'Bob', 'age': 22, 'city': 'New York'}\n",
            "After removing age : {'name': 'Bob', 'city': 'New York'}\n"
          ]
        }
      ],
      "source": [
        "# Write a code to remove the key \"age\" from the dictionary {'name': 'Bob', 'age': 22, 'city': 'New York'}\n",
        "\n",
        "my_dict={'name': 'Bob', 'age': 22, 'city': 'New York'}\n",
        "print(\"Before removing age :\",my_dict)\n",
        "\n",
        "# removing age\n",
        "my_dict.pop(\"age\")\n",
        "print(\"After removing age :\",my_dict)"
      ]
    },
    {
      "cell_type": "code",
      "execution_count": null,
      "metadata": {
        "colab": {
          "base_uri": "https://localhost:8080/"
        },
        "id": "nLcmSg_Ihy8d",
        "outputId": "c0fb5e1a-1bf7-48b1-dbd9-7dc713e4744a"
      },
      "outputs": [
        {
          "name": "stdout",
          "output_type": "stream",
          "text": [
            "Dictionary contain city\n"
          ]
        }
      ],
      "source": [
        "#25 Write a code to check if the key \"city\" exists in the dictionary {'name': 'Alice', 'city': 'Paris'}.\n",
        "\n",
        "my_dict={'name': 'Alice', 'city': 'Paris'}\n",
        "\n",
        "if \"city\" in my_dict.keys():\n",
        "  print(\"Dictionary contain city\")\n",
        "else:\n",
        "  print(\"False\")\n"
      ]
    },
    {
      "cell_type": "code",
      "execution_count": null,
      "metadata": {
        "colab": {
          "base_uri": "https://localhost:8080/"
        },
        "id": "wpAnVm53h13s",
        "outputId": "6cd80207-74ad-41b8-9d4b-af4a248df60d"
      },
      "outputs": [
        {
          "name": "stdout",
          "output_type": "stream",
          "text": [
            "my_list :[1, 2, 4, 'hello', False, True] and type is <class 'list'>\n",
            "\n",
            "my_tuple :(5, 3, 6) and type is <class 'tuple'>\n",
            "\n",
            "my_dict :{'name': 'Alice', 'city': 'Paris'} and type is <class 'dict'>\n"
          ]
        }
      ],
      "source": [
        "#26 Write a code to create a list, a tuple, and a dictionary, and print them all.\n",
        "\n",
        "my_list=[1,2,4,\"hello\",False,True]\n",
        "my_tuple=(5,3,6)\n",
        "my_dict={'name': 'Alice', 'city': 'Paris'}\n",
        "\n",
        "print(f\"my_list :{my_list} and type is {type(my_list)}\")\n",
        "print()\n",
        "print(f\"my_tuple :{my_tuple} and type is {type(my_tuple)}\")\n",
        "print()\n",
        "print(f\"my_dict :{my_dict} and type is {type(my_dict)}\")"
      ]
    },
    {
      "cell_type": "code",
      "execution_count": 14,
      "metadata": {
        "colab": {
          "base_uri": "https://localhost:8080/"
        },
        "id": "W78FAPHSh48-",
        "outputId": "1a8e1354-f4b0-4ba9-aa22-8949912531ac"
      },
      "outputs": [
        {
          "name": "stdout",
          "output_type": "stream",
          "text": [
            "list before sorting : [66, 74, 9, 55, 7]\n",
            "Sorted random numbers: [7, 9, 55, 66, 74]\n"
          ]
        }
      ],
      "source": [
        "#27 Write a code to create a list of 5 random numbers between 1 and 100, sort it in ascending order, and print the result .(replaced)\n",
        "\n",
        "import random\n",
        "\n",
        "# List with random 5 numbers\n",
        "random_numbers = random.sample(range(1, 101), 5)\n",
        "print(\"list before sorting :\",random_numbers)\n",
        "\n",
        "# sort function sort the list in ascending order\n",
        "random_numbers.sort()\n",
        "\n",
        "\n",
        "print(\"Sorted random numbers:\", random_numbers)"
      ]
    },
    {
      "cell_type": "code",
      "execution_count": null,
      "metadata": {
        "id": "WId1uBlph1xx"
      },
      "outputs": [],
      "source": [
        "#28 Write a code to create a list with strings and print the element at the third index\n",
        "\n",
        "my_list = [\"apple\", \"banana\", \"cherry\", \"date\", \"blueberry\"]\n",
        "print(\"Element at index 3:\", my_list[3])"
      ]
    },
    {
      "cell_type": "code",
      "execution_count": null,
      "metadata": {
        "colab": {
          "base_uri": "https://localhost:8080/"
        },
        "id": "Gi5s2E-miDtt",
        "outputId": "f4f14b83-92d9-4dbf-8ac7-502e731291ea"
      },
      "outputs": [
        {
          "name": "stdout",
          "output_type": "stream",
          "text": [
            "Dict 1 :  {'name': 'Alice', 'city': 'Paris'}\n",
            "Dict 2 :  {'age': 24, 'gender': 'Male'}\n",
            "\n",
            "Dictionary 1 after combing both dictionary : {'name': 'Alice', 'city': 'Paris', 'age': 24, 'gender': 'Male'}\n"
          ]
        }
      ],
      "source": [
        "#29  Write a code to combine two dictionaries into one and print the result.\n",
        "\n",
        "dict1={'name': 'Alice', 'city': 'Paris'}\n",
        "dict2 ={'age':24,'gender':'Male'}\n",
        "\n",
        "print(\"Dict 1 : \",dict1)\n",
        "print(\"Dict 2 : \",dict2)\n",
        "print()\n",
        "# update function extend or combine the list\n",
        "dict1.update(dict2)\n",
        "\n",
        "print(\"Dictionary 1 after combing both dictionary :\" , dict1)"
      ]
    },
    {
      "cell_type": "code",
      "execution_count": null,
      "metadata": {
        "colab": {
          "base_uri": "https://localhost:8080/"
        },
        "id": "fu1UPurqiHAQ",
        "outputId": "eed3326f-9e47-491e-ecf3-d3e28d588473"
      },
      "outputs": [
        {
          "name": "stdout",
          "output_type": "stream",
          "text": [
            "List : ['Ajay', 'Samiksha', 'David', 'name', 'name', 'Samiksha']\n",
            "\n",
            "List after converted into set {'Ajay', 'David', 'Samiksha', 'name'}\n"
          ]
        }
      ],
      "source": [
        "#30 Write a code to convert a list of strings into a set.\n",
        "\n",
        "my_list=[\"Ajay\",\"Samiksha\",\"David\",\"name\" ,\"name\",\"Samiksha\"]\n",
        "s=set(my_list)\n",
        "\n",
        "print(\"List :\",my_list)\n",
        "print()\n",
        "print(\"List after converted into set\",s)"
      ]
    }
  ],
  "metadata": {
    "colab": {
      "provenance": []
    },
    "kernelspec": {
      "display_name": "Python 3",
      "name": "python3"
    },
    "language_info": {
      "codemirror_mode": {
        "name": "ipython",
        "version": 3
      },
      "file_extension": ".py",
      "mimetype": "text/x-python",
      "name": "python",
      "nbconvert_exporter": "python",
      "pygments_lexer": "ipython3",
      "version": "3.13.5"
    }
  },
  "nbformat": 4,
  "nbformat_minor": 0
}
